{
 "cells": [
  {
   "cell_type": "markdown",
   "metadata": {},
   "source": [
    "# 1.浏览器选择"
   ]
  },
  {
   "cell_type": "markdown",
   "metadata": {},
   "source": [
    "## 1.1Webdriver支持列表"
   ]
  },
  {
   "cell_type": "code",
   "execution_count": 1,
   "metadata": {},
   "outputs": [
    {
     "name": "stdout",
     "output_type": "stream",
     "text": [
      "Help on package selenium.webdriver in selenium:\n",
      "\n",
      "NAME\n",
      "    selenium.webdriver\n",
      "\n",
      "DESCRIPTION\n",
      "    # Licensed to the Software Freedom Conservancy (SFC) under one\n",
      "    # or more contributor license agreements.  See the NOTICE file\n",
      "    # distributed with this work for additional information\n",
      "    # regarding copyright ownership.  The SFC licenses this file\n",
      "    # to you under the Apache License, Version 2.0 (the\n",
      "    # \"License\"); you may not use this file except in compliance\n",
      "    # with the License.  You may obtain a copy of the License at\n",
      "    #\n",
      "    #   http://www.apache.org/licenses/LICENSE-2.0\n",
      "    #\n",
      "    # Unless required by applicable law or agreed to in writing,\n",
      "    # software distributed under the License is distributed on an\n",
      "    # \"AS IS\" BASIS, WITHOUT WARRANTIES OR CONDITIONS OF ANY\n",
      "    # KIND, either express or implied.  See the License for the\n",
      "    # specific language governing permissions and limitations\n",
      "    # under the License.\n",
      "\n",
      "PACKAGE CONTENTS\n",
      "    android (package)\n",
      "    blackberry (package)\n",
      "    chrome (package)\n",
      "    common (package)\n",
      "    edge (package)\n",
      "    firefox (package)\n",
      "    ie (package)\n",
      "    opera (package)\n",
      "    phantomjs (package)\n",
      "    remote (package)\n",
      "    safari (package)\n",
      "    support (package)\n",
      "    webkitgtk (package)\n",
      "\n",
      "VERSION\n",
      "    3.14.1\n",
      "\n",
      "FILE\n",
      "    d:\\programdata\\anaconda3\\envs\\py3\\lib\\site-packages\\selenium\\webdriver\\__init__.py\n",
      "\n",
      "\n"
     ]
    }
   ],
   "source": [
    "from selenium import webdriver\n",
    "help(webdriver)"
   ]
  },
  {
   "cell_type": "markdown",
   "metadata": {},
   "source": [
    "# 2.抓取数据"
   ]
  },
  {
   "cell_type": "markdown",
   "metadata": {},
   "source": [
    "## 2.1获取搜索结果"
   ]
  },
  {
   "cell_type": "code",
   "execution_count": 11,
   "metadata": {},
   "outputs": [],
   "source": [
    "'''\n",
    "第一步.获取搜索结果\n",
    "'''\n",
    "from selenium import  webdriver\n",
    "#引入Chromedriver\n",
    "driver = \"C:\\Program Files (x86)\\Google\\Chrome\\Application\\chromedriver.exe\"\n",
    "browser = webdriver.Chrome(driver)\n",
    "browser.get('https://www.baidu.com')\n",
    "browser.implicitly_wait(10)"
   ]
  },
  {
   "cell_type": "code",
   "execution_count": null,
   "metadata": {},
   "outputs": [],
   "source": [
    "'''\n",
    "第二步.定位表单框架或\"有效数据\"位置\n",
    "返回数据中定位“有效位置”位置\n",
    "find_element(self, by=By.ID, value=None)\n",
    "find_element_by_class_name(self, name)\n",
    "find_element_by_css_selector(self, css_selector)\n",
    "find_element_by_id(self, id_)\n",
    "find_element_by_link_text(self, link_text)\n",
    "find_element_by_name(self, name)\n",
    "find_element_by_partial_link_text(self, link_text)\n",
    "find_element_by_tag_name(self, name)\n",
    "find_element_by_xpath(self, xpath)\n",
    "\n",
    "find_elements(self, by=By.ID, value=None)\n",
    "find_elements_by_class_name(self, name)\n",
    "find_elements_by_css_selector(self, css_selector)\n",
    "find_elements_by_id(self, id_)\n",
    "find_elements_by_link_text(self, text)\n",
    "find_elements_by_name(self, name)\n",
    "find_elements_by_partial_link_text(self, link_text)\n",
    "find_elements_by_tag_name(self, name)\n",
    "find_elements_by_xpath(self, xpath)\n",
    "'''"
   ]
  },
  {
   "cell_type": "code",
   "execution_count": 12,
   "metadata": {},
   "outputs": [],
   "source": [
    "textElement = browser.find_element_by_class_name('s_ipt')\n",
    "textElement.clear()\n",
    "textElement.send_keys('Python selenium')"
   ]
  },
  {
   "cell_type": "code",
   "execution_count": 14,
   "metadata": {},
   "outputs": [
    {
     "name": "stdout",
     "output_type": "stream",
     "text": [
      "python selenium_百度搜索\n"
     ]
    }
   ],
   "source": [
    "print (browser.title)"
   ]
  },
  {
   "cell_type": "code",
   "execution_count": 16,
   "metadata": {},
   "outputs": [
    {
     "data": {
      "text/plain": [
       "14"
      ]
     },
     "execution_count": 16,
     "metadata": {},
     "output_type": "execute_result"
    }
   ],
   "source": [
    "'''\n",
    "第三步.获取“有效数据”位置或是element\n",
    "'''\n",
    "resultElements = browser.find_elements_by_class_name('c-tools')\n",
    "len(resultElements)"
   ]
  },
  {
   "cell_type": "code",
   "execution_count": 19,
   "metadata": {},
   "outputs": [
    {
     "name": "stdout",
     "output_type": "stream",
     "text": [
      "株洲 官方2018selenium教程 培训丨selenium教程 从入门到精通...\n"
     ]
    }
   ],
   "source": [
    "'''\n",
    "第四步.从位置获取数据\n",
    "element.text\n",
    "element.get_attribute(name)\n",
    "'''\n",
    "value = resultElements[0].get_attribute('data-tools')\n",
    "valueDic = eval(value)\n",
    "print ( valueDic.get('title') )"
   ]
  },
  {
   "cell_type": "code",
   "execution_count": 20,
   "metadata": {},
   "outputs": [
    {
     "name": "stdout",
     "output_type": "stream",
     "text": [
      "http://www.baidu.com/baidu.php?url=0s0000KlmKuCTsdU2gq4itM4SRLOVbG0t5t6DeJ8Pa7YfIcfEuK1RWYFM39UHuvwThZSQ1iFdDt6HibMUfZpYaH6cF1QHSm1RtdqpeHEM89tL95GMmpwiaC--2uxRQoyKeJOIgRu4BGAVlgjtwBOI9w7ouFZZJxvKnuWzvu9hOuQ2Ko5w0.7Y_iRFhgk51Xyl8A64D7au-tHtLQgkerxxQsYptT2-muCyPvOGer26.U1Yk0ZDqTZ-YpAq8FHcsTvN_uy4GIyY0TA-W5H00Ijd1uyk-Uh-dUULn_ts0pyYqnW0Y0ATqmhNsT1D0Iybqmh7GuZR0TA-b5HDL0APGujY1PWn0UgfqnH0krNtknjDLg1csPWFxnH0YPdt1PW0k0AVG5H00TMfqrH6s0ANGujYkPjn1g1cknH0kg1cvn1Rsg1cLnWfdg1cznHR30AFG5HcsP7tkPHR0UynqnH0snNtLrjm3nHT1PjuxnHRdn1fLnWbkP7tsg100TgKGujYs0Z7Wpyfqn0KzuLw9u1Ys0A7B5HKxn0K-ThTqn0KsTjYs0A4vTjYsQW0snj0snj0s0AdYTjYs0AwbUL0qn0KzpWYs0Aw-IWdsmsKhIjYs0ZKC5H00ULnqn0KBI1Ykn0K8IjYs0ZPl5fKYIgnqnHmLP1c3rjT4nWf4nWnznWRznjD0ThNkIjYkPHfsnjbzrjmzP1Dz0ZPGujY4Pj6sPjFhnj0snjKhm16v0AP1UHYYn1fsPW9AfWTvwWf4n1cv0A7W5HD0TA3qn0KkUgfqn0KkUgnqn0KlIjYk0AdWgvuzUvYqn7tsg1Kxn7ts0Aw9UMNBuNqsUA78pyw15HKxn7tsg1Kxn0Ksmgwxuhk9u1Ys0AwWpyfqn0K-IA-b5iYk0A71TAPW5H00IgKGUhPW5H00Tydh5HDv0AuWIgfqn0KhXh6qn0Khmgfqn0KlTAkdT1Ys0A7buhk9u1Yk0Akhm1Ys0APzm1YdPWfLP0&ck=0.0.0.0.0.0.0.0&shh=www.baidu.com\n"
     ]
    }
   ],
   "source": [
    "print (valueDic.get('url') )"
   ]
  }
 ],
 "metadata": {
  "kernelspec": {
   "display_name": "Python [conda env:py3]",
   "language": "python",
   "name": "conda-env-py3-py"
  },
  "language_info": {
   "codemirror_mode": {
    "name": "ipython",
    "version": 3
   },
   "file_extension": ".py",
   "mimetype": "text/x-python",
   "name": "python",
   "nbconvert_exporter": "python",
   "pygments_lexer": "ipython3",
   "version": "3.6.6"
  }
 },
 "nbformat": 4,
 "nbformat_minor": 2
}
